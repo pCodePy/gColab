{
  "nbformat": 4,
  "nbformat_minor": 0,
  "metadata": {
    "colab": {
      "name": "MyColab_GetCommercialExchData",
      "provenance": [],
      "collapsed_sections": [],
      "include_colab_link": true
    },
    "kernelspec": {
      "name": "python3",
      "display_name": "Python 3"
    }
  },
  "cells": [
    {
      "cell_type": "markdown",
      "metadata": {
        "id": "view-in-github",
        "colab_type": "text"
      },
      "source": [
        "<a href=\"https://colab.research.google.com/github/pCodePy/gColab/blob/gColab-branch-01/MyColab_GetCommercialExchData.ipynb\" target=\"_parent\"><img src=\"https://colab.research.google.com/assets/colab-badge.svg\" alt=\"Open In Colab\"/></a>"
      ]
    },
    {
      "cell_type": "code",
      "metadata": {
        "id": "27kG8qDV48bv",
        "colab_type": "code",
        "colab": {}
      },
      "source": [
        "#import necessary packages #started at 8.36\n",
        "import numpy as np\n",
        "import pandas as pd"
      ],
      "execution_count": 0,
      "outputs": []
    },
    {
      "cell_type": "code",
      "metadata": {
        "id": "NLuy8wTWe2bm",
        "colab_type": "code",
        "colab": {}
      },
      "source": [
        "startDateStr = '20100101' # 1Dec 2019\n",
        "endDateStr = '20200108'   # 5Dec 2019\n",
        "dateList = [d.strftime('%d.%m.%Y') for d in pd.date_range(startDateStr, endDateStr)]\n",
        "webAddrStr = 'http://eso.bg/?did=35&date='\n",
        "webList = []\n",
        "df = []\n",
        "\n",
        "for i in range(len(dateList)):\n",
        "    \n",
        "    webList.append(webAddrStr + dateList[i])\n",
        "    df.append(pd.read_html(webList[i]))\n",
        "\n",
        "dfNew = pd.DataFrame(df)"
      ],
      "execution_count": 0,
      "outputs": []
    },
    {
      "cell_type": "code",
      "metadata": {
        "id": "hElH6nlbloub",
        "colab_type": "code",
        "colab": {}
      },
      "source": [
        "### Filters the first rows of nonsense for each table\n",
        "resList = []\n",
        "for i in range(len(dfNew[1])):\n",
        "    resList.append(dfNew[1][i])"
      ],
      "execution_count": 0,
      "outputs": []
    },
    {
      "cell_type": "code",
      "metadata": {
        "id": "VFD0zAJIZgsa",
        "colab_type": "code",
        "colab": {}
      },
      "source": [
        "for i in range(len(resList)):\n",
        "    resList[i]['Date'] = dateList[i]\n",
        "resList = pd.concat(resList)\n",
        "resList.rename(columns = {'Ð§Ð°Ñ': 'Time'}, inplace=True)\n",
        "#resList.columns\n",
        "#Index(['Time', 'BG to RO', 'RO to BG', 'BG to SR', 'SR to BG', 'BG to MK',\n",
        "#       'MK to BG', 'BG to GR', 'GR to BG', 'BG to TR', 'TR to BG', 'Date'],\n",
        "#       dtype='object')\n",
        "#print(type(resList))  # <class 'pandas.core.frame.DataFrame'>\n",
        "#resList.head()\n",
        "# <class 'pandas.core.frame.DataFrame'>\n",
        "# Int64Index: 86808 entries, 0 to 23\n",
        "# Data columns (total 12 columns):\n",
        "# Time        86808 non-null object\n",
        "# BG to RO    86808 non-null object\n",
        "# RO to BG    86808 non-null object\n",
        "# BG to SR    86808 non-null object\n",
        "# SR to BG    86808 non-null object\n",
        "# BG to MK    86808 non-null object\n",
        "# MK to BG    86808 non-null object\n",
        "# BG to GR    86808 non-null object\n",
        "# GR to BG    86808 non-null object\n",
        "# BG to TR    86808 non-null object\n",
        "# TR to BG    86808 non-null object\n",
        "# Date        86808 non-null object\n",
        "# dtypes: object(12)\n",
        "# memory usage: 8.6+ MB"
      ],
      "execution_count": 0,
      "outputs": []
    },
    {
      "cell_type": "code",
      "metadata": {
        "id": "bfFt_Q1yRKTR",
        "colab_type": "code",
        "colab": {}
      },
      "source": [
        "# save df\n",
        "from google.colab import files\n",
        "\n",
        "resList.to_csv('tsoData.csv')\n",
        "files.download('tsoData.csv')\n",
        "#check files pane on the left to view csv"
      ],
      "execution_count": 0,
      "outputs": []
    }
  ]
}