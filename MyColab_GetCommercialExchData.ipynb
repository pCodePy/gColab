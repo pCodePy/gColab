{
  "nbformat": 4,
  "nbformat_minor": 0,
  "metadata": {
    "colab": {
      "name": "MyColab_GetCommercialExchData",
      "provenance": [],
      "collapsed_sections": [],
      "include_colab_link": true
    },
    "kernelspec": {
      "name": "python3",
      "display_name": "Python 3"
    }
  },
  "cells": [
    {
      "cell_type": "markdown",
      "metadata": {
        "id": "view-in-github",
        "colab_type": "text"
      },
      "source": [
        "<a href=\"https://colab.research.google.com/github/pCodePy/gColab/blob/gColab-branch-01/MyColab_GetCommercialExchData.ipynb\" target=\"_parent\"><img src=\"https://colab.research.google.com/assets/colab-badge.svg\" alt=\"Open In Colab\"/></a>"
      ]
    },
    {
      "cell_type": "code",
      "metadata": {
        "id": "27kG8qDV48bv",
        "colab_type": "code",
        "colab": {}
      },
      "source": [
        "#import necessary packages\n",
        "import numpy as np\n",
        "import pandas as pd"
      ],
      "execution_count": 0,
      "outputs": []
    },
    {
      "cell_type": "code",
      "metadata": {
        "id": "NLuy8wTWe2bm",
        "colab_type": "code",
        "colab": {}
      },
      "source": [
        "startDateStr = '20190101' # 1Dec 2019\n",
        "endDateStr = '20190630'   # 5Dec 2019\n",
        "dateList = [d.strftime('%d.%m.%Y') for d in pd.date_range(startDateStr, endDateStr)]\n",
        "webAddrStr = 'http://eso.bg/?did=35&date='\n",
        "webList = []\n",
        "df = []\n",
        "\n",
        "for i in range(len(dateList)):\n",
        "    \n",
        "    webList.append(webAddrStr + dateList[i])\n",
        "    df.append(pd.read_html(webList[i]))\n",
        "\n",
        "dfNew = pd.DataFrame(df)"
      ],
      "execution_count": 0,
      "outputs": []
    },
    {
      "cell_type": "code",
      "metadata": {
        "id": "hElH6nlbloub",
        "colab_type": "code",
        "colab": {}
      },
      "source": [
        "### Filters the first rows of nonsense for each table\n",
        "resList = []\n",
        "for i in range(len(dfNew[1])):\n",
        "    resList.append(dfNew[1][i])"
      ],
      "execution_count": 0,
      "outputs": []
    },
    {
      "cell_type": "code",
      "metadata": {
        "id": "VFD0zAJIZgsa",
        "colab_type": "code",
        "colab": {}
      },
      "source": [
        "for i in range(len(resList)):\n",
        "    resList[i]['Date'] = dateList[i]\n",
        "resList = pd.concat(resList)\n",
        "#print(type(resList))  # <class 'pandas.core.frame.DataFrame'>\n",
        "resList.rename(columns = {'Ð§Ð°Ñ': 'Time'}, inplace=True)\n",
        "#resList.columns\n",
        "#Index(['Time', 'BG to RO', 'RO to BG', 'BG to SR', 'SR to BG', 'BG to MK',\n",
        "#       'MK to BG', 'BG to GR', 'GR to BG', 'BG to TR', 'TR to BG', 'Date'],\n",
        "#       dtype='object')\n",
        "resList"
      ],
      "execution_count": 0,
      "outputs": []
    }
  ]
}