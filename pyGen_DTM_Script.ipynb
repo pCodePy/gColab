{
  "nbformat": 4,
  "nbformat_minor": 0,
  "metadata": {
    "colab": {
      "name": "pyGen-DTM-Script",
      "provenance": [],
      "collapsed_sections": [],
      "authorship_tag": "ABX9TyNvyWCUdNBP/aRFaExnGIC4",
      "include_colab_link": true
    },
    "kernelspec": {
      "name": "python3",
      "display_name": "Python 3"
    }
  },
  "cells": [
    {
      "cell_type": "markdown",
      "metadata": {
        "id": "view-in-github",
        "colab_type": "text"
      },
      "source": [
        "<a href=\"https://colab.research.google.com/github/pCodePy/gColab/blob/gColab-branch-01/pyGen_DTM_Script.ipynb\" target=\"_parent\"><img src=\"https://colab.research.google.com/assets/colab-badge.svg\" alt=\"Open In Colab\"/></a>"
      ]
    },
    {
      "cell_type": "code",
      "metadata": {
        "id": "bZdbHv6Ypr-X",
        "colab_type": "code",
        "cellView": "code",
        "colab": {}
      },
      "source": [
        "##### First function will take datetime series\n",
        "##### and split datetime object by\n",
        "\n",
        "##### Second function can generate series \n",
        "##### with start/end periods\n",
        "\n",
        "# -- date;\n",
        "# -- year;\n",
        "# -- qtr;\n",
        "# -- monNo;\n",
        "# -- monName;\n",
        "# -- weekNo (1, 2, ..., 52);\n",
        "# -- day (1, 2, ..., 7);\n",
        "# -- dayMon (day number in a month: 1, 2, ..., 31);\n",
        "# -- dayYr (day number in a year: 1, 2, ..., 365);\n",
        "# -- dow (day of week: Mon, Tue, ..., Sun);\n",
        "# -- isWeekend (1 for weekend, 0 for weekday);\n",
        "# -- dayType (1 = Mondays, 2 = Tue/Wed/Thu, ...);\n",
        "# -- hour\n",
        "# -- isHoliday (1 for holidays, 0 for all else) => according to BG calendar;\n",
        "# -- loadType (peak [CET: 9.00-20.00 / EET: 10.00-21.00], offpeak);"
      ],
      "execution_count": 0,
      "outputs": []
    },
    {
      "cell_type": "code",
      "metadata": {
        "id": "6Hyxzs0U7Wze",
        "colab_type": "code",
        "colab": {}
      },
      "source": [
        "### For holidays use the below library:\n",
        "# -- check: https://pypi.org/project/workalendar/\n",
        "# -- and: https://pypi.org/project/holidays/ \n",
        "# -- which is another library for holidays\n",
        "\n",
        "# !pip install workalendar\n",
        "# from datetime import date\n",
        "# from workalendar.europe import Bulgaria\n",
        "# cal = Bulgaria()\n",
        "# cal.holidays(2019)"
      ],
      "execution_count": 0,
      "outputs": []
    },
    {
      "cell_type": "code",
      "metadata": {
        "id": "as-EPBWEHaHE",
        "colab_type": "code",
        "colab": {}
      },
      "source": [
        "# Get time series data to test function:\n",
        "\n",
        "# -- mount gDrive and upload test dataset\n",
        "# from google.colab import drive\n",
        "# drive.mount('/content/drive')"
      ],
      "execution_count": 0,
      "outputs": []
    },
    {
      "cell_type": "code",
      "metadata": {
        "id": "S4tvTYRhY0KM",
        "colab_type": "code",
        "colab": {}
      },
      "source": [
        "# Load test dataset\n",
        "# df = pd.read_excel('/content/drive/My Drive/py-mc-sim-dataset/ibexTimeSeries.xlsx', index_col=0)"
      ],
      "execution_count": 0,
      "outputs": []
    },
    {
      "cell_type": "code",
      "metadata": {
        "id": "he8Os1WbHnWD",
        "colab_type": "code",
        "colab": {}
      },
      "source": [
        "# Load libraries\n",
        "\n",
        "!pip install workalendar\n",
        "from workalendar.europe import Bulgaria\n",
        "import numpy as np\n",
        "import pandas as pd\n",
        "import datetime"
      ],
      "execution_count": 0,
      "outputs": []
    },
    {
      "cell_type": "code",
      "metadata": {
        "id": "vxyYsj8bIrw0",
        "colab_type": "code",
        "colab": {}
      },
      "source": [
        "def tsTransform(df, holCalendar=True, sumInfo=True):\n",
        "    \"\"\"\n",
        "    df:\n",
        "        takes dataframe object and checks if object is of pd.DataFrame type,\n",
        "        also checks if index is of dtype: datetime;\n",
        "    \"\"\"\n",
        "    if isinstance(df, pd.DataFrame)==True:\n",
        "\n",
        "        if isinstance(df.index, pd.DatetimeIndex)==True:\n",
        "            print('Dataframe is of the correct type \\n')\n",
        "\n",
        "        if isinstance(df.index, pd.DatetimeIndex)==False:\n",
        "            print('Dataframe index is not of datetime type')\n",
        "        \n",
        "    else:\n",
        "        print('Function expects pd.DataFrame object')\n",
        "    \n",
        "    # -- create necessary dictionaries:\n",
        "    strList_monNo = {1:'Jan',2:'Feb',3:'Mar',4:'Apr',5:'May',6:'Jun',\n",
        "                     7:'Jul',8:'Aug',9:'Sep',10:'Oct',11:'Nov',12:'Dec'}\n",
        "    strList_dayWk = {0:1, 1:2, 2:3, 3:4, 4:5, 5:6, 6:7}\n",
        "    strList_dow = {0:'Mon', 1:'Tue', 2:'Wed', 3:'Thu', 4:'Fri', 5:'Sat', 6:'Sun'}\n",
        "    strList_isWknd = {'Mon':0, 'Tue':0, 'Wed':0, 'Thu':0, 'Fri':0, 'Sat':1, 'Sun':1}\n",
        "    strList_DayType = {'Mon':1,'Tue':2,'Wed':2,'Thu':2,'Fri':3,'Sat':4,'Sun':5}\n",
        "\n",
        "    # -- initiate new columns:\n",
        "    df['Date'] = df.index.date\n",
        "    df['Year'] = df.index.to_series().apply(lambda x: x.year)\n",
        "    df['Qtr'] = df.index.to_series().apply(lambda x: x.quarter)\n",
        "    df['MonNo'] = df.index.to_series().apply(lambda x: x.month)\n",
        "    df['MonNm'] = df['MonNo'].map(strList_monNo)\n",
        "    df['WeekNo'] = df.index.week\n",
        "    df['DayYr'] = df.index.dayofyear\n",
        "    df['DayMn'] = df.index.to_series().apply(lambda x: x.day)\n",
        "    df['DayWk'] = df.index.to_series().apply(lambda x: x.dayofweek).map(strList_dayWk)\n",
        "    df['DoW'] = df.index.to_series().apply(lambda x: x.dayofweek).map(strList_dow)\n",
        "    df['DayTp'] = df['DoW'].map(strList_DayType)\n",
        "    df['Hour'] = df.index.to_series().apply(lambda x: x.hour)\n",
        "    df['isWknd'] = df['DoW'].map(strList_isWknd)\n",
        "    df['LoadTp'] = np.select(\n",
        "\n",
        "        [df['Hour'].between(0, 8, inclusive=True), \n",
        "         df['Hour'].between(9, 20, inclusive=True)],\n",
        "        ['offpeak', 'peak'],\n",
        "        default='offpeak' )\n",
        "    \n",
        "    ### Holiday Calendar builder:\n",
        "\n",
        "    # -- get all years included in the df:\n",
        "    yearList = df['Year'].unique().tolist()\n",
        "\n",
        "    # -- initiate blank lists:\n",
        "    colDate = []\n",
        "    colHold = []\n",
        "\n",
        "    # -- initiate loop:\n",
        "    for x in yearList:\n",
        "    \n",
        "        hol = cal.holidays(x)\n",
        "\n",
        "        for i in range(len(hol)):\n",
        "\n",
        "            colDate.append(pd.to_datetime(hol[i][0]))\n",
        "            colHold.append(hol[i][1])\n",
        "\n",
        "    # -- create holiday df:\n",
        "    holidaysDF = pd.DataFrame(list(zip(colDate, colHold)), columns=['Date', 'HolName'])\n",
        "\n",
        "    ### Merge and map both dataframes:\n",
        "\n",
        "    # -- convert to datetime for the join procedure to work:\n",
        "    df['Date'] = pd.to_datetime(df['Date'])\n",
        "    holidaysDF['Date'] = pd.to_datetime(holidaysDF['Date'])\n",
        "\n",
        "    # -- reset index and add it back as pandas merge drops index after join:\n",
        "    mainDF = df.reset_index().merge(holidaysDF, how='left', on='Date', left_index=True).set_index('Datetime')\n",
        "\n",
        "    ### Generate DF based on conditional\n",
        "    if sumInfo == True:\n",
        "\n",
        "        print('---------- Dataframe columns ---------- \\n')\n",
        "        print(df.index)\n",
        "        print('\\n ---------- Dataframe columns ---------- \\n')\n",
        "        print(df.columns)\n",
        "        print('\\n ---------- Dataframe info ---------- \\n')\n",
        "        print(df.info())\n",
        "        print('\\n ---------- Inspect dataset ---------- \\n')\n",
        "        print(df.head())\n",
        "        print('\\n ---------- Any NaN values? ---------- \\n')\n",
        "        print(df.isnull().sum())\n",
        "        print('\\n ---------- Summary --------- \\n')\n",
        "        print(round(df.describe()))\n",
        "\n",
        "        if holCalendar == True:\n",
        "            return mainDF\n",
        "        if holCalendar == False:\n",
        "            return df\n",
        "\n",
        "    else:\n",
        "\n",
        "         if holCalendar == True:\n",
        "            return mainDF\n",
        "         if holCalendar == False:\n",
        "            return df\n"
      ],
      "execution_count": 0,
      "outputs": []
    },
    {
      "cell_type": "code",
      "metadata": {
        "id": "UsdhhC6CK5yc",
        "colab_type": "code",
        "colab": {}
      },
      "source": [
        "tsTransform(df, holCalendar=True, sumInfo=True)"
      ],
      "execution_count": 0,
      "outputs": []
    }
  ]
}